{
  "nbformat": 4,
  "nbformat_minor": 0,
  "metadata": {
    "kernelspec": {
      "display_name": "Python 3",
      "language": "python",
      "name": "python3"
    },
    "language_info": {
      "codemirror_mode": {
        "name": "ipython",
        "version": 3
      },
      "file_extension": ".py",
      "mimetype": "text/x-python",
      "name": "python",
      "nbconvert_exporter": "python",
      "pygments_lexer": "ipython3",
      "version": "3.7.1"
    },
    "colab": {
      "provenance": [],
      "include_colab_link": true
    }
  },
  "cells": [
    {
      "cell_type": "markdown",
      "metadata": {
        "id": "view-in-github",
        "colab_type": "text"
      },
      "source": [
        "<a href=\"https://colab.research.google.com/github/DipanshuKumar449/Guided-Project/blob/main/Guided_Project_2_Intersection_of_Lists.ipynb\" target=\"_parent\"><img src=\"https://colab.research.google.com/assets/colab-badge.svg\" alt=\"Open In Colab\"/></a>"
      ]
    },
    {
      "cell_type": "markdown",
      "metadata": {
        "id": "rtBrwN-Aexbo"
      },
      "source": [
        "Given a list of n lists, write a function which returns the intersection of all the n lists. Each list can have any number of elements.\n",
        "\n",
        "Example 1:\n",
        "\n",
        "```\n",
        "input = [[5, 5, 5, 8, 10], \n",
        "      [5, 5, 7, 8], \n",
        "      [5, 5, 8, 9, 11]]\n",
        "```\n",
        "\n",
        "```\n",
        "output = [5, 5, 8]\n",
        "```\n",
        "\n",
        "Example 2:\n",
        "\n",
        "```\n",
        "input = [[5, 6], \n",
        "      [5, 5, 7, 8], \n",
        "      [5, 5, 8, 9]]\n",
        "```\n",
        "\n",
        "\n",
        "```\n",
        "output = [5]\n",
        "```"
      ]
    },
    {
      "cell_type": "code",
      "source": [
        "# First step : Find all the unique element across the lists\n",
        "\n",
        "def return_all_unique_numbers(list_of_lists : list):\n",
        "  unique_number_list = []\n",
        "  for unique_list in list_of_lists:\n",
        "    for number in unique_list:\n",
        "      if number not in unique_number_list:\n",
        "        unique_number_list.append(number)\n",
        "\n",
        "  return unique_number_list"
      ],
      "metadata": {
        "id": "I10caOClOl7g"
      },
      "execution_count": null,
      "outputs": []
    },
    {
      "cell_type": "code",
      "source": [
        "input = [[5, 6], \n",
        "      [5, 5, 7, 8], \n",
        "      [5, 5, 8, 9]]\n",
        "      \n",
        "return_all_unique_numbers(input)"
      ],
      "metadata": {
        "colab": {
          "base_uri": "https://localhost:8080/"
        },
        "id": "B3gt9EszQEMv",
        "outputId": "545d05d4-aa35-4954-fafe-6f59ea197984"
      },
      "execution_count": null,
      "outputs": [
        {
          "output_type": "execute_result",
          "data": {
            "text/plain": [
              "[5, 6, 7, 8, 9]"
            ]
          },
          "metadata": {},
          "execution_count": 16
        }
      ]
    },
    {
      "cell_type": "code",
      "source": [
        "# Second step : Generate a frequency dictionary for a list of numbers\n",
        "\n",
        "def generate_frequency_dict(given_list,unique_number_list):\n",
        "  freq_dict = {}\n",
        "  for unique_number in unique_number_list:\n",
        "    count = 0\n",
        "    for number in given_list:\n",
        "      if (unique_number == number):\n",
        "        count += 1\n",
        "      freq_dict[unique_number] = count\n",
        "  return freq_dict  "
      ],
      "metadata": {
        "id": "OpsOPi9_QbiV"
      },
      "execution_count": null,
      "outputs": []
    },
    {
      "cell_type": "code",
      "source": [
        "generate_frequency_dict([5, 5, 7, 8],[5, 6, 7, 8, 9])"
      ],
      "metadata": {
        "colab": {
          "base_uri": "https://localhost:8080/"
        },
        "id": "alCscsRwSU0C",
        "outputId": "76d165dc-6061-40bc-97d7-dfedc2473c65"
      },
      "execution_count": null,
      "outputs": [
        {
          "output_type": "execute_result",
          "data": {
            "text/plain": [
              "{5: 2, 6: 0, 7: 1, 8: 1, 9: 0}"
            ]
          },
          "metadata": {},
          "execution_count": 18
        }
      ]
    },
    {
      "cell_type": "code",
      "source": [
        "# Third step: Calculate the minimun frequency of each unique number\n",
        "\n",
        "def min_freq(list_of_lists):\n",
        "  unique_number_list = return_all_unique_numbers(list_of_lists)\n",
        "  freq_dict_list = []\n",
        "  for each_list in list_of_lists:\n",
        "    freq_dict_list.append(generate_frequency_dict(each_list,unique_number_list))\n",
        "\n",
        "  min_freq_dict ={}\n",
        "  for unique_number in unique_number_list:\n",
        "    counts = []\n",
        "    for freq_dict in freq_dict_list:\n",
        "      counts.append(freq_dict[unique_number])\n",
        "    min_freq_dict[unique_number] = min(counts)\n",
        "\n",
        "  return min_freq_dict\n",
        "\n"
      ],
      "metadata": {
        "id": "LS8c8zWvSiRY"
      },
      "execution_count": null,
      "outputs": []
    },
    {
      "cell_type": "code",
      "source": [
        "min_freq(input)"
      ],
      "metadata": {
        "colab": {
          "base_uri": "https://localhost:8080/"
        },
        "id": "MXrIXrSLVs8R",
        "outputId": "27204e8c-5896-4f81-dc89-2ae7346f9b1a"
      },
      "execution_count": null,
      "outputs": [
        {
          "output_type": "execute_result",
          "data": {
            "text/plain": [
              "{5: 1, 6: 0, 7: 0, 8: 0, 9: 0}"
            ]
          },
          "metadata": {},
          "execution_count": 26
        }
      ]
    },
    {
      "cell_type": "code",
      "source": [
        "# Fourth step : Generating the common element list\n",
        "def generate_common_set(min_freq_dict):\n",
        "\n",
        "  final_list = []\n",
        "  for key,value in min_freq_dict.items():\n",
        "    final_list = final_list + [key]*value\n",
        "  \n",
        "  return final_list\n"
      ],
      "metadata": {
        "id": "4VA_yTMxW2xo"
      },
      "execution_count": null,
      "outputs": []
    },
    {
      "cell_type": "code",
      "source": [
        "generate_common_set(min_freq(input))"
      ],
      "metadata": {
        "colab": {
          "base_uri": "https://localhost:8080/"
        },
        "id": "C5a_5ubwX7Vo",
        "outputId": "504153f5-8630-461d-bd83-967bcf2dba18"
      },
      "execution_count": null,
      "outputs": [
        {
          "output_type": "execute_result",
          "data": {
            "text/plain": [
              "[5]"
            ]
          },
          "metadata": {},
          "execution_count": 29
        }
      ]
    }
  ]
}